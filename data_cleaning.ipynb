{
 "cells": [
  {
   "cell_type": "markdown",
   "metadata": {},
   "source": [
    "## Importing Libraries"
   ]
  },
  {
   "cell_type": "code",
   "execution_count": 190,
   "metadata": {},
   "outputs": [],
   "source": [
    "import pandas as pd\n",
    "import os\n",
    "import sweetviz as sv\n",
    "import geopandas as gpd\n",
    "from shapely import wkt\n",
    "import contextily as ctx\n",
    "import matplotlib.pyplot as plt\n",
    "import seaborn as sns\n",
    "import geodatasets\n",
    "from shapely.geometry import Point\n",
    "from geopy.geocoders import Nominatim\n",
    "import warnings\n",
    "import plotly.express as px\n",
    "from geopy.geocoders import ArcGIS\n",
    "import geopandas as gpd\n",
    "import numpy as np\n",
    "import re\n",
    "warnings.filterwarnings('ignore')"
   ]
  },
  {
   "cell_type": "code",
   "execution_count": 191,
   "metadata": {},
   "outputs": [],
   "source": [
    "os.chdir('C:/Users/edwin/OneDrive/Escritorio/Personal files/Courses/Semester 2/Project Management/Head Competition/Code/Datasets')"
   ]
  },
  {
   "cell_type": "code",
   "execution_count": 192,
   "metadata": {},
   "outputs": [
    {
     "data": {
      "text/plain": [
       "['20240117-2024-Facilities-Details-FCI.xlsx',\n",
       " 'city_451_BCCAQv2_RCP85_annual_plus30_ensemble.csv',\n",
       " 'CoH-CFEM-2023-Facilities-Details.xlsx',\n",
       " 'facilities_wlocation.csv',\n",
       " 'Metadata',\n",
       " 'Ward_Boundaries.geojson',\n",
       " 'Ward_Boundaries.json',\n",
       " 'Ward_Boundaries_json.json',\n",
       " 'weather_databases']"
      ]
     },
     "execution_count": 192,
     "metadata": {},
     "output_type": "execute_result"
    }
   ],
   "source": [
    "os.listdir('.')"
   ]
  },
  {
   "cell_type": "markdown",
   "metadata": {},
   "source": [
    "# DB1"
   ]
  },
  {
   "cell_type": "markdown",
   "metadata": {},
   "source": [
    "## Reading DB1"
   ]
  },
  {
   "cell_type": "code",
   "execution_count": 193,
   "metadata": {},
   "outputs": [
    {
     "data": {
      "text/html": [
       "<div>\n",
       "<style scoped>\n",
       "    .dataframe tbody tr th:only-of-type {\n",
       "        vertical-align: middle;\n",
       "    }\n",
       "\n",
       "    .dataframe tbody tr th {\n",
       "        vertical-align: top;\n",
       "    }\n",
       "\n",
       "    .dataframe thead th {\n",
       "        text-align: right;\n",
       "    }\n",
       "</style>\n",
       "<table border=\"1\" class=\"dataframe\">\n",
       "  <thead>\n",
       "    <tr style=\"text-align: right;\">\n",
       "      <th>1</th>\n",
       "      <th>Asset Name</th>\n",
       "      <th>Asset Type</th>\n",
       "      <th>Asset Address</th>\n",
       "      <th>Asset Size</th>\n",
       "      <th>Asset Measure Unit</th>\n",
       "      <th>Asset Date Built</th>\n",
       "      <th>2023 FCI Rating</th>\n",
       "    </tr>\n",
       "  </thead>\n",
       "  <tbody>\n",
       "    <tr>\n",
       "      <th>2</th>\n",
       "      <td>703 HIGHWAY 8 (ALECTRA UTILITIES)</td>\n",
       "      <td>Work Yards &amp; Maintenance</td>\n",
       "      <td>703 HIGHWAY 8</td>\n",
       "      <td>31411</td>\n",
       "      <td>Sq.Ft.</td>\n",
       "      <td>1986-04-26</td>\n",
       "      <td>0.066459</td>\n",
       "    </tr>\n",
       "    <tr>\n",
       "      <th>3</th>\n",
       "      <td>ALEXANDER PARK - FIELDHOUSE</td>\n",
       "      <td>Park Facilities - Public Use</td>\n",
       "      <td>201 WHITNEY AVENUE</td>\n",
       "      <td>1954</td>\n",
       "      <td>Sq.Ft.</td>\n",
       "      <td>1973-01-02</td>\n",
       "      <td>0.098895</td>\n",
       "    </tr>\n",
       "    <tr>\n",
       "      <th>4</th>\n",
       "      <td>ALEXANDER PARK WADING POOL UTILITY BUILDING</td>\n",
       "      <td>Outdoor Pools</td>\n",
       "      <td>201 WHITNEY AVENUE</td>\n",
       "      <td>72</td>\n",
       "      <td>Sq.Ft.</td>\n",
       "      <td>2011-01-01</td>\n",
       "      <td>0</td>\n",
       "    </tr>\n",
       "    <tr>\n",
       "      <th>5</th>\n",
       "      <td>ANCASTER AQUATIC CENTRE (P)</td>\n",
       "      <td>Indoor Pools</td>\n",
       "      <td>47 MEADOWBROOK DRIVE</td>\n",
       "      <td>19067</td>\n",
       "      <td>Sq.Ft.</td>\n",
       "      <td>1982-01-02</td>\n",
       "      <td>0.012063</td>\n",
       "    </tr>\n",
       "    <tr>\n",
       "      <th>6</th>\n",
       "      <td>ANCASTER COMMUNITY CENTRE PARK - FIELDHOUSE</td>\n",
       "      <td>Park Facilities - Public Use</td>\n",
       "      <td>385 JERSEYVILLE ROAD WEST</td>\n",
       "      <td>1112</td>\n",
       "      <td>Sq.Ft.</td>\n",
       "      <td>1996-01-02</td>\n",
       "      <td>0.082996</td>\n",
       "    </tr>\n",
       "  </tbody>\n",
       "</table>\n",
       "</div>"
      ],
      "text/plain": [
       "1                                   Asset Name                    Asset Type  \\\n",
       "2            703 HIGHWAY 8 (ALECTRA UTILITIES)      Work Yards & Maintenance   \n",
       "3                  ALEXANDER PARK - FIELDHOUSE  Park Facilities - Public Use   \n",
       "4  ALEXANDER PARK WADING POOL UTILITY BUILDING                 Outdoor Pools   \n",
       "5                  ANCASTER AQUATIC CENTRE (P)                  Indoor Pools   \n",
       "6  ANCASTER COMMUNITY CENTRE PARK - FIELDHOUSE  Park Facilities - Public Use   \n",
       "\n",
       "1              Asset Address Asset Size Asset Measure Unit Asset Date Built  \\\n",
       "2              703 HIGHWAY 8      31411             Sq.Ft.       1986-04-26   \n",
       "3         201 WHITNEY AVENUE       1954             Sq.Ft.       1973-01-02   \n",
       "4         201 WHITNEY AVENUE         72             Sq.Ft.       2011-01-01   \n",
       "5       47 MEADOWBROOK DRIVE      19067             Sq.Ft.       1982-01-02   \n",
       "6  385 JERSEYVILLE ROAD WEST       1112             Sq.Ft.       1996-01-02   \n",
       "\n",
       "1 2023 FCI Rating  \n",
       "2        0.066459  \n",
       "3        0.098895  \n",
       "4               0  \n",
       "5        0.012063  \n",
       "6        0.082996  "
      ]
     },
     "execution_count": 193,
     "metadata": {},
     "output_type": "execute_result"
    }
   ],
   "source": [
    "df_1=pd.read_excel(\"CoH-CFEM-2023-Facilities-Details.xlsx\").loc[1:,:]\n",
    "df_1.columns=df_1.iloc[0]\n",
    "df_1 = df_1.drop(1)\n",
    "df_1.head()"
   ]
  },
  {
   "cell_type": "code",
   "execution_count": 194,
   "metadata": {},
   "outputs": [
    {
     "data": {
      "text/plain": [
       "(500, 7)"
      ]
     },
     "execution_count": 194,
     "metadata": {},
     "output_type": "execute_result"
    }
   ],
   "source": [
    "df_1.shape"
   ]
  },
  {
   "cell_type": "code",
   "execution_count": 195,
   "metadata": {},
   "outputs": [
    {
     "name": "stdout",
     "output_type": "stream",
     "text": [
      "<class 'pandas.core.frame.DataFrame'>\n",
      "RangeIndex: 500 entries, 2 to 501\n",
      "Data columns (total 7 columns):\n",
      " #   Column              Non-Null Count  Dtype \n",
      "---  ------              --------------  ----- \n",
      " 0   Asset Name          497 non-null    object\n",
      " 1   Asset Type          497 non-null    object\n",
      " 2   Asset Address       497 non-null    object\n",
      " 3   Asset Size          485 non-null    object\n",
      " 4   Asset Measure Unit  497 non-null    object\n",
      " 5   Asset Date Built    490 non-null    object\n",
      " 6   2023 FCI Rating     498 non-null    object\n",
      "dtypes: object(7)\n",
      "memory usage: 27.5+ KB\n"
     ]
    }
   ],
   "source": [
    "df_1.info()"
   ]
  },
  {
   "cell_type": "markdown",
   "metadata": {},
   "source": [
    "## Addressing problem 1"
   ]
  },
  {
   "cell_type": "code",
   "execution_count": 196,
   "metadata": {},
   "outputs": [
    {
     "data": {
      "text/html": [
       "<div>\n",
       "<style scoped>\n",
       "    .dataframe tbody tr th:only-of-type {\n",
       "        vertical-align: middle;\n",
       "    }\n",
       "\n",
       "    .dataframe tbody tr th {\n",
       "        vertical-align: top;\n",
       "    }\n",
       "\n",
       "    .dataframe thead th {\n",
       "        text-align: right;\n",
       "    }\n",
       "</style>\n",
       "<table border=\"1\" class=\"dataframe\">\n",
       "  <thead>\n",
       "    <tr style=\"text-align: right;\">\n",
       "      <th>1</th>\n",
       "      <th>Asset Name</th>\n",
       "      <th>Asset Type</th>\n",
       "      <th>Asset Address</th>\n",
       "      <th>Asset Size SQF</th>\n",
       "      <th>Asset Date Built</th>\n",
       "      <th>2023 FCI Rating</th>\n",
       "    </tr>\n",
       "  </thead>\n",
       "  <tbody>\n",
       "    <tr>\n",
       "      <th>2</th>\n",
       "      <td>703 HIGHWAY 8 (ALECTRA UTILITIES)</td>\n",
       "      <td>Work Yards &amp; Maintenance</td>\n",
       "      <td>703 HIGHWAY 8</td>\n",
       "      <td>31411</td>\n",
       "      <td>1986-04-26</td>\n",
       "      <td>0.066459</td>\n",
       "    </tr>\n",
       "    <tr>\n",
       "      <th>3</th>\n",
       "      <td>ALEXANDER PARK - FIELDHOUSE</td>\n",
       "      <td>Park Facilities - Public Use</td>\n",
       "      <td>201 WHITNEY AVENUE</td>\n",
       "      <td>1954</td>\n",
       "      <td>1973-01-02</td>\n",
       "      <td>0.098895</td>\n",
       "    </tr>\n",
       "    <tr>\n",
       "      <th>4</th>\n",
       "      <td>ALEXANDER PARK WADING POOL UTILITY BUILDING</td>\n",
       "      <td>Outdoor Pools</td>\n",
       "      <td>201 WHITNEY AVENUE</td>\n",
       "      <td>72</td>\n",
       "      <td>2011-01-01</td>\n",
       "      <td>0</td>\n",
       "    </tr>\n",
       "    <tr>\n",
       "      <th>5</th>\n",
       "      <td>ANCASTER AQUATIC CENTRE (P)</td>\n",
       "      <td>Indoor Pools</td>\n",
       "      <td>47 MEADOWBROOK DRIVE</td>\n",
       "      <td>19067</td>\n",
       "      <td>1982-01-02</td>\n",
       "      <td>0.012063</td>\n",
       "    </tr>\n",
       "    <tr>\n",
       "      <th>6</th>\n",
       "      <td>ANCASTER COMMUNITY CENTRE PARK - FIELDHOUSE</td>\n",
       "      <td>Park Facilities - Public Use</td>\n",
       "      <td>385 JERSEYVILLE ROAD WEST</td>\n",
       "      <td>1112</td>\n",
       "      <td>1996-01-02</td>\n",
       "      <td>0.082996</td>\n",
       "    </tr>\n",
       "  </tbody>\n",
       "</table>\n",
       "</div>"
      ],
      "text/plain": [
       "1                                   Asset Name                    Asset Type  \\\n",
       "2            703 HIGHWAY 8 (ALECTRA UTILITIES)      Work Yards & Maintenance   \n",
       "3                  ALEXANDER PARK - FIELDHOUSE  Park Facilities - Public Use   \n",
       "4  ALEXANDER PARK WADING POOL UTILITY BUILDING                 Outdoor Pools   \n",
       "5                  ANCASTER AQUATIC CENTRE (P)                  Indoor Pools   \n",
       "6  ANCASTER COMMUNITY CENTRE PARK - FIELDHOUSE  Park Facilities - Public Use   \n",
       "\n",
       "1              Asset Address Asset Size SQF Asset Date Built 2023 FCI Rating  \n",
       "2              703 HIGHWAY 8          31411       1986-04-26        0.066459  \n",
       "3         201 WHITNEY AVENUE           1954       1973-01-02        0.098895  \n",
       "4         201 WHITNEY AVENUE             72       2011-01-01               0  \n",
       "5       47 MEADOWBROOK DRIVE          19067       1982-01-02        0.012063  \n",
       "6  385 JERSEYVILLE ROAD WEST           1112       1996-01-02        0.082996  "
      ]
     },
     "execution_count": 196,
     "metadata": {},
     "output_type": "execute_result"
    }
   ],
   "source": [
    "df_1=df_1.drop(columns=[\"Asset Measure Unit\"])\n",
    "df_1=df_1.rename(columns={\"Asset Size\":\"Asset Size SQF\"})\n",
    "df_1.head()"
   ]
  },
  {
   "cell_type": "markdown",
   "metadata": {},
   "source": [
    "## Addressing problem 2 and 3"
   ]
  },
  {
   "cell_type": "code",
   "execution_count": 197,
   "metadata": {},
   "outputs": [
    {
     "data": {
      "text/html": [
       "<div>\n",
       "<style scoped>\n",
       "    .dataframe tbody tr th:only-of-type {\n",
       "        vertical-align: middle;\n",
       "    }\n",
       "\n",
       "    .dataframe tbody tr th {\n",
       "        vertical-align: top;\n",
       "    }\n",
       "\n",
       "    .dataframe thead th {\n",
       "        text-align: right;\n",
       "    }\n",
       "</style>\n",
       "<table border=\"1\" class=\"dataframe\">\n",
       "  <thead>\n",
       "    <tr style=\"text-align: right;\">\n",
       "      <th>1</th>\n",
       "      <th>Asset Name</th>\n",
       "      <th>Asset Type</th>\n",
       "      <th>Asset Address</th>\n",
       "      <th>Asset Size SQF</th>\n",
       "      <th>Asset Date Built</th>\n",
       "      <th>2023 FCI Rating</th>\n",
       "    </tr>\n",
       "  </thead>\n",
       "  <tbody>\n",
       "    <tr>\n",
       "      <th>2</th>\n",
       "      <td>703 HIGHWAY 8 (ALECTRA UTILITIES)</td>\n",
       "      <td>Work Yards &amp; Maintenance</td>\n",
       "      <td>703 HIGHWAY 8</td>\n",
       "      <td>31411</td>\n",
       "      <td>1986-04-26</td>\n",
       "      <td>0.066459</td>\n",
       "    </tr>\n",
       "    <tr>\n",
       "      <th>3</th>\n",
       "      <td>ALEXANDER PARK - FIELDHOUSE</td>\n",
       "      <td>Park Facilities - Public Use</td>\n",
       "      <td>201 WHITNEY AVENUE</td>\n",
       "      <td>1954</td>\n",
       "      <td>1973-01-02</td>\n",
       "      <td>0.098895</td>\n",
       "    </tr>\n",
       "    <tr>\n",
       "      <th>4</th>\n",
       "      <td>ALEXANDER PARK WADING POOL UTILITY BUILDING</td>\n",
       "      <td>Outdoor Pools</td>\n",
       "      <td>201 WHITNEY AVENUE</td>\n",
       "      <td>72</td>\n",
       "      <td>2011-01-01</td>\n",
       "      <td>0</td>\n",
       "    </tr>\n",
       "    <tr>\n",
       "      <th>5</th>\n",
       "      <td>ANCASTER AQUATIC CENTRE (P)</td>\n",
       "      <td>Indoor Pools</td>\n",
       "      <td>47 MEADOWBROOK DRIVE</td>\n",
       "      <td>19067</td>\n",
       "      <td>1982-01-02</td>\n",
       "      <td>0.012063</td>\n",
       "    </tr>\n",
       "    <tr>\n",
       "      <th>6</th>\n",
       "      <td>ANCASTER COMMUNITY CENTRE PARK - FIELDHOUSE</td>\n",
       "      <td>Park Facilities - Public Use</td>\n",
       "      <td>385 JERSEYVILLE ROAD WEST</td>\n",
       "      <td>1112</td>\n",
       "      <td>1996-01-02</td>\n",
       "      <td>0.082996</td>\n",
       "    </tr>\n",
       "  </tbody>\n",
       "</table>\n",
       "</div>"
      ],
      "text/plain": [
       "1                                   Asset Name                    Asset Type  \\\n",
       "2            703 HIGHWAY 8 (ALECTRA UTILITIES)      Work Yards & Maintenance   \n",
       "3                  ALEXANDER PARK - FIELDHOUSE  Park Facilities - Public Use   \n",
       "4  ALEXANDER PARK WADING POOL UTILITY BUILDING                 Outdoor Pools   \n",
       "5                  ANCASTER AQUATIC CENTRE (P)                  Indoor Pools   \n",
       "6  ANCASTER COMMUNITY CENTRE PARK - FIELDHOUSE  Park Facilities - Public Use   \n",
       "\n",
       "1              Asset Address Asset Size SQF Asset Date Built 2023 FCI Rating  \n",
       "2              703 HIGHWAY 8          31411       1986-04-26        0.066459  \n",
       "3         201 WHITNEY AVENUE           1954       1973-01-02        0.098895  \n",
       "4         201 WHITNEY AVENUE             72       2011-01-01               0  \n",
       "5       47 MEADOWBROOK DRIVE          19067       1982-01-02        0.012063  \n",
       "6  385 JERSEYVILLE ROAD WEST           1112       1996-01-02        0.082996  "
      ]
     },
     "execution_count": 197,
     "metadata": {},
     "output_type": "execute_result"
    }
   ],
   "source": [
    "df_1=df_1[~((df_1[\"Asset Name\"].isnull()) | (df_1[\"Asset Size SQF\"].isnull()) | (df_1[\"Asset Date Built\"].isnull()))]\n",
    "df_1.head()"
   ]
  },
  {
   "cell_type": "code",
   "execution_count": 198,
   "metadata": {},
   "outputs": [
    {
     "data": {
      "text/plain": [
       "(485, 6)"
      ]
     },
     "execution_count": 198,
     "metadata": {},
     "output_type": "execute_result"
    }
   ],
   "source": [
    "df_1.shape"
   ]
  },
  {
   "cell_type": "code",
   "execution_count": 199,
   "metadata": {},
   "outputs": [
    {
     "name": "stdout",
     "output_type": "stream",
     "text": [
      "<class 'pandas.core.frame.DataFrame'>\n",
      "Int64Index: 485 entries, 2 to 498\n",
      "Data columns (total 6 columns):\n",
      " #   Column            Non-Null Count  Dtype \n",
      "---  ------            --------------  ----- \n",
      " 0   Asset Name        485 non-null    object\n",
      " 1   Asset Type        485 non-null    object\n",
      " 2   Asset Address     485 non-null    object\n",
      " 3   Asset Size SQF    485 non-null    object\n",
      " 4   Asset Date Built  485 non-null    object\n",
      " 5   2023 FCI Rating   485 non-null    object\n",
      "dtypes: object(6)\n",
      "memory usage: 26.5+ KB\n"
     ]
    }
   ],
   "source": [
    "df_1.info()"
   ]
  },
  {
   "cell_type": "code",
   "execution_count": 200,
   "metadata": {},
   "outputs": [
    {
     "data": {
      "image/png": "[encoded data removed]",
      "text/plain": [
       "<Figure size 1000x600 with 1 Axes>"
      ]
     },
     "metadata": {},
     "output_type": "display_data"
    }
   ],
   "source": [
    "plt.figure(figsize=(10, 6))\n",
    "sns.heatmap(df_1.isnull(), cbar=False, yticklabels=False, cmap='viridis')\n",
    "plt.title('Heatmap of DB1 Nulls by Column')\n",
    "plt.show()"
   ]
  },
  {
   "cell_type": "markdown",
   "metadata": {},
   "source": [
    "# DB2"
   ]
  },
  {
   "cell_type": "code",
   "execution_count": 201,
   "metadata": {},
   "outputs": [
    {
     "data": {
      "text/html": [
       "<div>\n",
       "<style scoped>\n",
       "    .dataframe tbody tr th:only-of-type {\n",
       "        vertical-align: middle;\n",
       "    }\n",
       "\n",
       "    .dataframe tbody tr th {\n",
       "        vertical-align: top;\n",
       "    }\n",
       "\n",
       "    .dataframe thead th {\n",
       "        text-align: right;\n",
       "    }\n",
       "</style>\n",
       "<table border=\"1\" class=\"dataframe\">\n",
       "  <thead>\n",
       "    <tr style=\"text-align: right;\">\n",
       "      <th>1</th>\n",
       "      <th>Asset Name</th>\n",
       "      <th>Asset Type</th>\n",
       "      <th>Asset Name: Address</th>\n",
       "      <th>Asset Name: Size</th>\n",
       "      <th>Asset Name: Measure Unit</th>\n",
       "      <th>Asset Name: Date Built</th>\n",
       "      <th>Custom: Assessment Date</th>\n",
       "      <th>Asset Name: Current Replacement Value</th>\n",
       "      <th>Current Needs Value</th>\n",
       "      <th>Asset Name: Current FCI</th>\n",
       "    </tr>\n",
       "  </thead>\n",
       "  <tbody>\n",
       "    <tr>\n",
       "      <th>2</th>\n",
       "      <td>703 HIGHWAY 8 (ALECTRA UTILITIES)</td>\n",
       "      <td>Work Yards &amp; Maintenance</td>\n",
       "      <td>703 HIGHWAY 8</td>\n",
       "      <td>31411</td>\n",
       "      <td>Sq.Ft.</td>\n",
       "      <td>1986-04-26</td>\n",
       "      <td>Model</td>\n",
       "      <td>12828450.29</td>\n",
       "      <td>972839.51</td>\n",
       "      <td>0.075835</td>\n",
       "    </tr>\n",
       "    <tr>\n",
       "      <th>3</th>\n",
       "      <td>ALEXANDER PARK - FIELDHOUSE</td>\n",
       "      <td>Park Facilities - Public Use</td>\n",
       "      <td>201 WHITNEY AVENUE</td>\n",
       "      <td>1954</td>\n",
       "      <td>Sq.Ft.</td>\n",
       "      <td>1973-01-02</td>\n",
       "      <td>2017</td>\n",
       "      <td>395826.67</td>\n",
       "      <td>39145.35</td>\n",
       "      <td>0.098895</td>\n",
       "    </tr>\n",
       "    <tr>\n",
       "      <th>4</th>\n",
       "      <td>ALEXANDER PARK WADING POOL UTILITY BUILDING</td>\n",
       "      <td>Outdoor Pools</td>\n",
       "      <td>201 WHITNEY AVENUE</td>\n",
       "      <td>72</td>\n",
       "      <td>Sq.Ft.</td>\n",
       "      <td>2011-01-01</td>\n",
       "      <td>2017</td>\n",
       "      <td>14585.22</td>\n",
       "      <td>0</td>\n",
       "      <td>0</td>\n",
       "    </tr>\n",
       "    <tr>\n",
       "      <th>5</th>\n",
       "      <td>ANCASTER AQUATIC CENTRE (P)</td>\n",
       "      <td>Indoor Pools</td>\n",
       "      <td>47 MEADOWBROOK DRIVE</td>\n",
       "      <td>19067</td>\n",
       "      <td>Sq.Ft.</td>\n",
       "      <td>1982-01-02</td>\n",
       "      <td>2020</td>\n",
       "      <td>13716984.75</td>\n",
       "      <td>304172.85</td>\n",
       "      <td>0.022175</td>\n",
       "    </tr>\n",
       "    <tr>\n",
       "      <th>6</th>\n",
       "      <td>ANCASTER COMMUNITY CENTRE PARK - FIELDHOUSE</td>\n",
       "      <td>Park Facilities - Public Use</td>\n",
       "      <td>385 JERSEYVILLE ROAD WEST</td>\n",
       "      <td>1112</td>\n",
       "      <td>Sq.Ft.</td>\n",
       "      <td>1996-01-02</td>\n",
       "      <td>2011</td>\n",
       "      <td>225260.62</td>\n",
       "      <td>18695.65</td>\n",
       "      <td>0.082996</td>\n",
       "    </tr>\n",
       "  </tbody>\n",
       "</table>\n",
       "</div>"
      ],
      "text/plain": [
       "1                                   Asset Name                    Asset Type  \\\n",
       "2            703 HIGHWAY 8 (ALECTRA UTILITIES)      Work Yards & Maintenance   \n",
       "3                  ALEXANDER PARK - FIELDHOUSE  Park Facilities - Public Use   \n",
       "4  ALEXANDER PARK WADING POOL UTILITY BUILDING                 Outdoor Pools   \n",
       "5                  ANCASTER AQUATIC CENTRE (P)                  Indoor Pools   \n",
       "6  ANCASTER COMMUNITY CENTRE PARK - FIELDHOUSE  Park Facilities - Public Use   \n",
       "\n",
       "1        Asset Name: Address Asset Name: Size Asset Name: Measure Unit  \\\n",
       "2              703 HIGHWAY 8            31411                   Sq.Ft.   \n",
       "3         201 WHITNEY AVENUE             1954                   Sq.Ft.   \n",
       "4         201 WHITNEY AVENUE               72                   Sq.Ft.   \n",
       "5       47 MEADOWBROOK DRIVE            19067                   Sq.Ft.   \n",
       "6  385 JERSEYVILLE ROAD WEST             1112                   Sq.Ft.   \n",
       "\n",
       "1 Asset Name: Date Built Custom: Assessment Date  \\\n",
       "2             1986-04-26                   Model   \n",
       "3             1973-01-02                    2017   \n",
       "4             2011-01-01                    2017   \n",
       "5             1982-01-02                    2020   \n",
       "6             1996-01-02                    2011   \n",
       "\n",
       "1 Asset Name: Current Replacement Value Current Needs Value  \\\n",
       "2                           12828450.29           972839.51   \n",
       "3                             395826.67            39145.35   \n",
       "4                              14585.22                   0   \n",
       "5                           13716984.75           304172.85   \n",
       "6                             225260.62            18695.65   \n",
       "\n",
       "1 Asset Name: Current FCI  \n",
       "2                0.075835  \n",
       "3                0.098895  \n",
       "4                       0  \n",
       "5                0.022175  \n",
       "6                0.082996  "
      ]
     },
     "execution_count": 201,
     "metadata": {},
     "output_type": "execute_result"
    }
   ],
   "source": [
    "df_2=pd.read_excel(\"20240117-2024-Facilities-Details-FCI.xlsx\").loc[1:,:]\n",
    "df_2.columns=df_2.iloc[0]\n",
    "df_2 = df_2.drop(1)\n",
    "df_2.head()"
   ]
  },
  {
   "cell_type": "code",
   "execution_count": 202,
   "metadata": {},
   "outputs": [
    {
     "data": {
      "text/plain": [
       "(497, 10)"
      ]
     },
     "execution_count": 202,
     "metadata": {},
     "output_type": "execute_result"
    }
   ],
   "source": [
    "df_2.shape"
   ]
  },
  {
   "cell_type": "code",
   "execution_count": 203,
   "metadata": {},
   "outputs": [
    {
     "name": "stdout",
     "output_type": "stream",
     "text": [
      "<class 'pandas.core.frame.DataFrame'>\n",
      "RangeIndex: 497 entries, 2 to 498\n",
      "Data columns (total 10 columns):\n",
      " #   Column                                 Non-Null Count  Dtype \n",
      "---  ------                                 --------------  ----- \n",
      " 0   Asset Name                             497 non-null    object\n",
      " 1   Asset Type                             497 non-null    object\n",
      " 2   Asset Name: Address                    497 non-null    object\n",
      " 3   Asset Name: Size                       485 non-null    object\n",
      " 4   Asset Name: Measure Unit               497 non-null    object\n",
      " 5   Asset Name: Date Built                 490 non-null    object\n",
      " 6   Custom: Assessment Date                472 non-null    object\n",
      " 7   Asset Name: Current Replacement Value  486 non-null    object\n",
      " 8   Current Needs Value                    483 non-null    object\n",
      " 9   Asset Name: Current FCI                483 non-null    object\n",
      "dtypes: object(10)\n",
      "memory usage: 39.0+ KB\n"
     ]
    }
   ],
   "source": [
    "df_2.info()"
   ]
  },
  {
   "cell_type": "markdown",
   "metadata": {},
   "source": [
    "## Addressing problem 4"
   ]
  },
  {
   "cell_type": "code",
   "execution_count": 204,
   "metadata": {},
   "outputs": [
    {
     "data": {
      "text/html": [
       "<div>\n",
       "<style scoped>\n",
       "    .dataframe tbody tr th:only-of-type {\n",
       "        vertical-align: middle;\n",
       "    }\n",
       "\n",
       "    .dataframe tbody tr th {\n",
       "        vertical-align: top;\n",
       "    }\n",
       "\n",
       "    .dataframe thead th {\n",
       "        text-align: right;\n",
       "    }\n",
       "</style>\n",
       "<table border=\"1\" class=\"dataframe\">\n",
       "  <thead>\n",
       "    <tr style=\"text-align: right;\">\n",
       "      <th>1</th>\n",
       "      <th>Asset Name</th>\n",
       "      <th>Asset Type</th>\n",
       "      <th>Asset Name: Address</th>\n",
       "      <th>Asset Name: Size</th>\n",
       "      <th>Asset Name: Date Built</th>\n",
       "      <th>Custom: Assessment Date</th>\n",
       "      <th>Asset Name: Current Replacement Value</th>\n",
       "      <th>Current Needs Value</th>\n",
       "      <th>Asset Name: Current FCI</th>\n",
       "    </tr>\n",
       "  </thead>\n",
       "  <tbody>\n",
       "    <tr>\n",
       "      <th>2</th>\n",
       "      <td>703 HIGHWAY 8 (ALECTRA UTILITIES)</td>\n",
       "      <td>Work Yards &amp; Maintenance</td>\n",
       "      <td>703 HIGHWAY 8</td>\n",
       "      <td>31411</td>\n",
       "      <td>1986-04-26</td>\n",
       "      <td>Model</td>\n",
       "      <td>12828450.29</td>\n",
       "      <td>972839.51</td>\n",
       "      <td>0.075835</td>\n",
       "    </tr>\n",
       "    <tr>\n",
       "      <th>3</th>\n",
       "      <td>ALEXANDER PARK - FIELDHOUSE</td>\n",
       "      <td>Park Facilities - Public Use</td>\n",
       "      <td>201 WHITNEY AVENUE</td>\n",
       "      <td>1954</td>\n",
       "      <td>1973-01-02</td>\n",
       "      <td>2017</td>\n",
       "      <td>395826.67</td>\n",
       "      <td>39145.35</td>\n",
       "      <td>0.098895</td>\n",
       "    </tr>\n",
       "    <tr>\n",
       "      <th>4</th>\n",
       "      <td>ALEXANDER PARK WADING POOL UTILITY BUILDING</td>\n",
       "      <td>Outdoor Pools</td>\n",
       "      <td>201 WHITNEY AVENUE</td>\n",
       "      <td>72</td>\n",
       "      <td>2011-01-01</td>\n",
       "      <td>2017</td>\n",
       "      <td>14585.22</td>\n",
       "      <td>0</td>\n",
       "      <td>0</td>\n",
       "    </tr>\n",
       "    <tr>\n",
       "      <th>5</th>\n",
       "      <td>ANCASTER AQUATIC CENTRE (P)</td>\n",
       "      <td>Indoor Pools</td>\n",
       "      <td>47 MEADOWBROOK DRIVE</td>\n",
       "      <td>19067</td>\n",
       "      <td>1982-01-02</td>\n",
       "      <td>2020</td>\n",
       "      <td>13716984.75</td>\n",
       "      <td>304172.85</td>\n",
       "      <td>0.022175</td>\n",
       "    </tr>\n",
       "    <tr>\n",
       "      <th>6</th>\n",
       "      <td>ANCASTER COMMUNITY CENTRE PARK - FIELDHOUSE</td>\n",
       "      <td>Park Facilities - Public Use</td>\n",
       "      <td>385 JERSEYVILLE ROAD WEST</td>\n",
       "      <td>1112</td>\n",
       "      <td>1996-01-02</td>\n",
       "      <td>2011</td>\n",
       "      <td>225260.62</td>\n",
       "      <td>18695.65</td>\n",
       "      <td>0.082996</td>\n",
       "    </tr>\n",
       "  </tbody>\n",
       "</table>\n",
       "</div>"
      ],
      "text/plain": [
       "1                                   Asset Name                    Asset Type  \\\n",
       "2            703 HIGHWAY 8 (ALECTRA UTILITIES)      Work Yards & Maintenance   \n",
       "3                  ALEXANDER PARK - FIELDHOUSE  Park Facilities - Public Use   \n",
       "4  ALEXANDER PARK WADING POOL UTILITY BUILDING                 Outdoor Pools   \n",
       "5                  ANCASTER AQUATIC CENTRE (P)                  Indoor Pools   \n",
       "6  ANCASTER COMMUNITY CENTRE PARK - FIELDHOUSE  Park Facilities - Public Use   \n",
       "\n",
       "1        Asset Name: Address Asset Name: Size Asset Name: Date Built  \\\n",
       "2              703 HIGHWAY 8            31411             1986-04-26   \n",
       "3         201 WHITNEY AVENUE             1954             1973-01-02   \n",
       "4         201 WHITNEY AVENUE               72             2011-01-01   \n",
       "5       47 MEADOWBROOK DRIVE            19067             1982-01-02   \n",
       "6  385 JERSEYVILLE ROAD WEST             1112             1996-01-02   \n",
       "\n",
       "1 Custom: Assessment Date Asset Name: Current Replacement Value  \\\n",
       "2                   Model                           12828450.29   \n",
       "3                    2017                             395826.67   \n",
       "4                    2017                              14585.22   \n",
       "5                    2020                           13716984.75   \n",
       "6                    2011                             225260.62   \n",
       "\n",
       "1 Current Needs Value Asset Name: Current FCI  \n",
       "2           972839.51                0.075835  \n",
       "3            39145.35                0.098895  \n",
       "4                   0                       0  \n",
       "5           304172.85                0.022175  \n",
       "6            18695.65                0.082996  "
      ]
     },
     "execution_count": 204,
     "metadata": {},
     "output_type": "execute_result"
    }
   ],
   "source": [
    "df_2=df_2.drop(columns=[\"Asset Name: Measure Unit\"])\n",
    "df_2=df_2.rename(columns={\"Asset Name: Measure Unit\":\"Asset Size SQF\"})\n",
    "df_2.head()"
   ]
  },
  {
   "cell_type": "code",
   "execution_count": 205,
   "metadata": {},
   "outputs": [
    {
     "data": {
      "text/plain": [
       "(497, 9)"
      ]
     },
     "execution_count": 205,
     "metadata": {},
     "output_type": "execute_result"
    }
   ],
   "source": [
    "df_2.shape"
   ]
  },
  {
   "cell_type": "code",
   "execution_count": 206,
   "metadata": {},
   "outputs": [
    {
     "name": "stdout",
     "output_type": "stream",
     "text": [
      "<class 'pandas.core.frame.DataFrame'>\n",
      "RangeIndex: 497 entries, 2 to 498\n",
      "Data columns (total 9 columns):\n",
      " #   Column                                 Non-Null Count  Dtype \n",
      "---  ------                                 --------------  ----- \n",
      " 0   Asset Name                             497 non-null    object\n",
      " 1   Asset Type                             497 non-null    object\n",
      " 2   Asset Name: Address                    497 non-null    object\n",
      " 3   Asset Name: Size                       485 non-null    object\n",
      " 4   Asset Name: Date Built                 490 non-null    object\n",
      " 5   Custom: Assessment Date                472 non-null    object\n",
      " 6   Asset Name: Current Replacement Value  486 non-null    object\n",
      " 7   Current Needs Value                    483 non-null    object\n",
      " 8   Asset Name: Current FCI                483 non-null    object\n",
      "dtypes: object(9)\n",
      "memory usage: 35.1+ KB\n"
     ]
    }
   ],
   "source": [
    "df_2.info()"
   ]
  },
  {
   "cell_type": "markdown",
   "metadata": {},
   "source": [
    "## Addressing problem 5"
   ]
  },
  {
   "cell_type": "code",
   "execution_count": 207,
   "metadata": {},
   "outputs": [
    {
     "data": {
      "text/html": [
       "<div>\n",
       "<style scoped>\n",
       "    .dataframe tbody tr th:only-of-type {\n",
       "        vertical-align: middle;\n",
       "    }\n",
       "\n",
       "    .dataframe tbody tr th {\n",
       "        vertical-align: top;\n",
       "    }\n",
       "\n",
       "    .dataframe thead th {\n",
       "        text-align: right;\n",
       "    }\n",
       "</style>\n",
       "<table border=\"1\" class=\"dataframe\">\n",
       "  <thead>\n",
       "    <tr style=\"text-align: right;\">\n",
       "      <th>1</th>\n",
       "      <th>Asset Name</th>\n",
       "      <th>Asset Type</th>\n",
       "      <th>Asset Name: Address</th>\n",
       "      <th>Asset Name: Size</th>\n",
       "      <th>Asset Name: Date Built</th>\n",
       "      <th>Custom: Assessment Date</th>\n",
       "      <th>Asset Name: Current Replacement Value</th>\n",
       "      <th>Current Needs Value</th>\n",
       "      <th>Asset Name: Current FCI</th>\n",
       "    </tr>\n",
       "  </thead>\n",
       "  <tbody>\n",
       "    <tr>\n",
       "      <th>2</th>\n",
       "      <td>703 HIGHWAY 8 (ALECTRA UTILITIES)</td>\n",
       "      <td>Work Yards &amp; Maintenance</td>\n",
       "      <td>703 HIGHWAY 8</td>\n",
       "      <td>31411</td>\n",
       "      <td>1986-04-26</td>\n",
       "      <td>Model</td>\n",
       "      <td>12828450.29</td>\n",
       "      <td>972839.51</td>\n",
       "      <td>0.075835</td>\n",
       "    </tr>\n",
       "    <tr>\n",
       "      <th>3</th>\n",
       "      <td>ALEXANDER PARK - FIELDHOUSE</td>\n",
       "      <td>Park Facilities - Public Use</td>\n",
       "      <td>201 WHITNEY AVENUE</td>\n",
       "      <td>1954</td>\n",
       "      <td>1973-01-02</td>\n",
       "      <td>2017</td>\n",
       "      <td>395826.67</td>\n",
       "      <td>39145.35</td>\n",
       "      <td>0.098895</td>\n",
       "    </tr>\n",
       "    <tr>\n",
       "      <th>4</th>\n",
       "      <td>ALEXANDER PARK WADING POOL UTILITY BUILDING</td>\n",
       "      <td>Outdoor Pools</td>\n",
       "      <td>201 WHITNEY AVENUE</td>\n",
       "      <td>72</td>\n",
       "      <td>2011-01-01</td>\n",
       "      <td>2017</td>\n",
       "      <td>14585.22</td>\n",
       "      <td>0</td>\n",
       "      <td>0</td>\n",
       "    </tr>\n",
       "    <tr>\n",
       "      <th>5</th>\n",
       "      <td>ANCASTER AQUATIC CENTRE (P)</td>\n",
       "      <td>Indoor Pools</td>\n",
       "      <td>47 MEADOWBROOK DRIVE</td>\n",
       "      <td>19067</td>\n",
       "      <td>1982-01-02</td>\n",
       "      <td>2020</td>\n",
       "      <td>13716984.75</td>\n",
       "      <td>304172.85</td>\n",
       "      <td>0.022175</td>\n",
       "    </tr>\n",
       "    <tr>\n",
       "      <th>6</th>\n",
       "      <td>ANCASTER COMMUNITY CENTRE PARK - FIELDHOUSE</td>\n",
       "      <td>Park Facilities - Public Use</td>\n",
       "      <td>385 JERSEYVILLE ROAD WEST</td>\n",
       "      <td>1112</td>\n",
       "      <td>1996-01-02</td>\n",
       "      <td>2011</td>\n",
       "      <td>225260.62</td>\n",
       "      <td>18695.65</td>\n",
       "      <td>0.082996</td>\n",
       "    </tr>\n",
       "  </tbody>\n",
       "</table>\n",
       "</div>"
      ],
      "text/plain": [
       "1                                   Asset Name                    Asset Type  \\\n",
       "2            703 HIGHWAY 8 (ALECTRA UTILITIES)      Work Yards & Maintenance   \n",
       "3                  ALEXANDER PARK - FIELDHOUSE  Park Facilities - Public Use   \n",
       "4  ALEXANDER PARK WADING POOL UTILITY BUILDING                 Outdoor Pools   \n",
       "5                  ANCASTER AQUATIC CENTRE (P)                  Indoor Pools   \n",
       "6  ANCASTER COMMUNITY CENTRE PARK - FIELDHOUSE  Park Facilities - Public Use   \n",
       "\n",
       "1        Asset Name: Address Asset Name: Size Asset Name: Date Built  \\\n",
       "2              703 HIGHWAY 8            31411             1986-04-26   \n",
       "3         201 WHITNEY AVENUE             1954             1973-01-02   \n",
       "4         201 WHITNEY AVENUE               72             2011-01-01   \n",
       "5       47 MEADOWBROOK DRIVE            19067             1982-01-02   \n",
       "6  385 JERSEYVILLE ROAD WEST             1112             1996-01-02   \n",
       "\n",
       "1 Custom: Assessment Date Asset Name: Current Replacement Value  \\\n",
       "2                   Model                           12828450.29   \n",
       "3                    2017                             395826.67   \n",
       "4                    2017                              14585.22   \n",
       "5                    2020                           13716984.75   \n",
       "6                    2011                             225260.62   \n",
       "\n",
       "1 Current Needs Value Asset Name: Current FCI  \n",
       "2           972839.51                0.075835  \n",
       "3            39145.35                0.098895  \n",
       "4                   0                       0  \n",
       "5           304172.85                0.022175  \n",
       "6            18695.65                0.082996  "
      ]
     },
     "execution_count": 207,
     "metadata": {},
     "output_type": "execute_result"
    }
   ],
   "source": [
    "df_2=df_2[(~(df_2[\"Asset Name: Current Replacement Value\"].isnull())) &\n",
    "          (df_2[\"Asset Name: Current Replacement Value\"]!=0)\n",
    "          ]\n",
    "df_2.head()"
   ]
  },
  {
   "cell_type": "code",
   "execution_count": 208,
   "metadata": {},
   "outputs": [
    {
     "data": {
      "text/plain": [
       "(483, 9)"
      ]
     },
     "execution_count": 208,
     "metadata": {},
     "output_type": "execute_result"
    }
   ],
   "source": [
    "df_2.shape"
   ]
  },
  {
   "cell_type": "code",
   "execution_count": 209,
   "metadata": {},
   "outputs": [
    {
     "name": "stdout",
     "output_type": "stream",
     "text": [
      "<class 'pandas.core.frame.DataFrame'>\n",
      "Int64Index: 483 entries, 2 to 498\n",
      "Data columns (total 9 columns):\n",
      " #   Column                                 Non-Null Count  Dtype \n",
      "---  ------                                 --------------  ----- \n",
      " 0   Asset Name                             483 non-null    object\n",
      " 1   Asset Type                             483 non-null    object\n",
      " 2   Asset Name: Address                    483 non-null    object\n",
      " 3   Asset Name: Size                       483 non-null    object\n",
      " 4   Asset Name: Date Built                 483 non-null    object\n",
      " 5   Custom: Assessment Date                470 non-null    object\n",
      " 6   Asset Name: Current Replacement Value  483 non-null    object\n",
      " 7   Current Needs Value                    483 non-null    object\n",
      " 8   Asset Name: Current FCI                483 non-null    object\n",
      "dtypes: object(9)\n",
      "memory usage: 37.7+ KB\n"
     ]
    }
   ],
   "source": [
    "df_2.info()"
   ]
  },
  {
   "cell_type": "markdown",
   "metadata": {},
   "source": [
    "## Addressing problem 6"
   ]
  },
  {
   "cell_type": "markdown",
   "metadata": {},
   "source": [
    "Model: When \"Model\" is mentioned under \"Custom: Assessment Date,\" it implies that the assessment was carried out using a theoretical or computational model. \n",
    "\n",
    "Audit: On the other hand, when \"Audit\" is listed, it indicates that the assessment was performed through an actual physical inspection or a detailed review of the asset. An audit involves on-site visits, inspections, and evaluations by professionals to accurately assess the condition, value, and needs of the asset."
   ]
  },
  {
   "cell_type": "code",
   "execution_count": 210,
   "metadata": {},
   "outputs": [],
   "source": [
    "def clean_row(row):\n",
    "    date=row[\"Custom: Assessment Date\"]\n",
    "\n",
    "    if date==\"Model\": \n",
    "        type=\"Model\"\n",
    "        date=None\n",
    "    elif date==\"Audit\": \n",
    "        type=\"Audit\"\n",
    "        date=None\n",
    "    else: type=\"Audit\"\n",
    "\n",
    "    return date, type"
   ]
  },
  {
   "cell_type": "code",
   "execution_count": 211,
   "metadata": {},
   "outputs": [
    {
     "data": {
      "text/html": [
       "<div>\n",
       "<style scoped>\n",
       "    .dataframe tbody tr th:only-of-type {\n",
       "        vertical-align: middle;\n",
       "    }\n",
       "\n",
       "    .dataframe tbody tr th {\n",
       "        vertical-align: top;\n",
       "    }\n",
       "\n",
       "    .dataframe thead th {\n",
       "        text-align: right;\n",
       "    }\n",
       "</style>\n",
       "<table border=\"1\" class=\"dataframe\">\n",
       "  <thead>\n",
       "    <tr style=\"text-align: right;\">\n",
       "      <th>1</th>\n",
       "      <th>Asset Name</th>\n",
       "      <th>Asset Type</th>\n",
       "      <th>Asset Name: Address</th>\n",
       "      <th>Asset Name: Size</th>\n",
       "      <th>Asset Name: Date Built</th>\n",
       "      <th>Custom: Assessment Date</th>\n",
       "      <th>Asset Name: Current Replacement Value</th>\n",
       "      <th>Current Needs Value</th>\n",
       "      <th>Asset Name: Current FCI</th>\n",
       "      <th>Type of assessment</th>\n",
       "    </tr>\n",
       "  </thead>\n",
       "  <tbody>\n",
       "    <tr>\n",
       "      <th>2</th>\n",
       "      <td>703 HIGHWAY 8 (ALECTRA UTILITIES)</td>\n",
       "      <td>Work Yards &amp; Maintenance</td>\n",
       "      <td>703 HIGHWAY 8</td>\n",
       "      <td>31411</td>\n",
       "      <td>1986-04-26</td>\n",
       "      <td>None</td>\n",
       "      <td>12828450.29</td>\n",
       "      <td>972839.51</td>\n",
       "      <td>0.075835</td>\n",
       "      <td>Model</td>\n",
       "    </tr>\n",
       "    <tr>\n",
       "      <th>3</th>\n",
       "      <td>ALEXANDER PARK - FIELDHOUSE</td>\n",
       "      <td>Park Facilities - Public Use</td>\n",
       "      <td>201 WHITNEY AVENUE</td>\n",
       "      <td>1954</td>\n",
       "      <td>1973-01-02</td>\n",
       "      <td>2017</td>\n",
       "      <td>395826.67</td>\n",
       "      <td>39145.35</td>\n",
       "      <td>0.098895</td>\n",
       "      <td>Audit</td>\n",
       "    </tr>\n",
       "    <tr>\n",
       "      <th>4</th>\n",
       "      <td>ALEXANDER PARK WADING POOL UTILITY BUILDING</td>\n",
       "      <td>Outdoor Pools</td>\n",
       "      <td>201 WHITNEY AVENUE</td>\n",
       "      <td>72</td>\n",
       "      <td>2011-01-01</td>\n",
       "      <td>2017</td>\n",
       "      <td>14585.22</td>\n",
       "      <td>0</td>\n",
       "      <td>0</td>\n",
       "      <td>Audit</td>\n",
       "    </tr>\n",
       "    <tr>\n",
       "      <th>5</th>\n",
       "      <td>ANCASTER AQUATIC CENTRE (P)</td>\n",
       "      <td>Indoor Pools</td>\n",
       "      <td>47 MEADOWBROOK DRIVE</td>\n",
       "      <td>19067</td>\n",
       "      <td>1982-01-02</td>\n",
       "      <td>2020</td>\n",
       "      <td>13716984.75</td>\n",
       "      <td>304172.85</td>\n",
       "      <td>0.022175</td>\n",
       "      <td>Audit</td>\n",
       "    </tr>\n",
       "    <tr>\n",
       "      <th>6</th>\n",
       "      <td>ANCASTER COMMUNITY CENTRE PARK - FIELDHOUSE</td>\n",
       "      <td>Park Facilities - Public Use</td>\n",
       "      <td>385 JERSEYVILLE ROAD WEST</td>\n",
       "      <td>1112</td>\n",
       "      <td>1996-01-02</td>\n",
       "      <td>2011</td>\n",
       "      <td>225260.62</td>\n",
       "      <td>18695.65</td>\n",
       "      <td>0.082996</td>\n",
       "      <td>Audit</td>\n",
       "    </tr>\n",
       "  </tbody>\n",
       "</table>\n",
       "</div>"
      ],
      "text/plain": [
       "1                                   Asset Name                    Asset Type  \\\n",
       "2            703 HIGHWAY 8 (ALECTRA UTILITIES)      Work Yards & Maintenance   \n",
       "3                  ALEXANDER PARK - FIELDHOUSE  Park Facilities - Public Use   \n",
       "4  ALEXANDER PARK WADING POOL UTILITY BUILDING                 Outdoor Pools   \n",
       "5                  ANCASTER AQUATIC CENTRE (P)                  Indoor Pools   \n",
       "6  ANCASTER COMMUNITY CENTRE PARK - FIELDHOUSE  Park Facilities - Public Use   \n",
       "\n",
       "1        Asset Name: Address Asset Name: Size Asset Name: Date Built  \\\n",
       "2              703 HIGHWAY 8            31411             1986-04-26   \n",
       "3         201 WHITNEY AVENUE             1954             1973-01-02   \n",
       "4         201 WHITNEY AVENUE               72             2011-01-01   \n",
       "5       47 MEADOWBROOK DRIVE            19067             1982-01-02   \n",
       "6  385 JERSEYVILLE ROAD WEST             1112             1996-01-02   \n",
       "\n",
       "1 Custom: Assessment Date Asset Name: Current Replacement Value  \\\n",
       "2                    None                           12828450.29   \n",
       "3                    2017                             395826.67   \n",
       "4                    2017                              14585.22   \n",
       "5                    2020                           13716984.75   \n",
       "6                    2011                             225260.62   \n",
       "\n",
       "1 Current Needs Value Asset Name: Current FCI Type of assessment  \n",
       "2           972839.51                0.075835              Model  \n",
       "3            39145.35                0.098895              Audit  \n",
       "4                   0                       0              Audit  \n",
       "5           304172.85                0.022175              Audit  \n",
       "6            18695.65                0.082996              Audit  "
      ]
     },
     "execution_count": 211,
     "metadata": {},
     "output_type": "execute_result"
    }
   ],
   "source": [
    "df_2[['Custom: Assessment Date', 'Type of assessment']]=df_2.apply(lambda row:clean_row(row),axis=1, result_type='expand')\n",
    "df_2.head()"
   ]
  },
  {
   "cell_type": "code",
   "execution_count": 212,
   "metadata": {},
   "outputs": [
    {
     "data": {
      "text/plain": [
       "(483, 10)"
      ]
     },
     "execution_count": 212,
     "metadata": {},
     "output_type": "execute_result"
    }
   ],
   "source": [
    "df_2.shape"
   ]
  },
  {
   "cell_type": "code",
   "execution_count": 213,
   "metadata": {},
   "outputs": [
    {
     "name": "stdout",
     "output_type": "stream",
     "text": [
      "<class 'pandas.core.frame.DataFrame'>\n",
      "Int64Index: 483 entries, 2 to 498\n",
      "Data columns (total 10 columns):\n",
      " #   Column                                 Non-Null Count  Dtype \n",
      "---  ------                                 --------------  ----- \n",
      " 0   Asset Name                             483 non-null    object\n",
      " 1   Asset Type                             483 non-null    object\n",
      " 2   Asset Name: Address                    483 non-null    object\n",
      " 3   Asset Name: Size                       483 non-null    object\n",
      " 4   Asset Name: Date Built                 483 non-null    object\n",
      " 5   Custom: Assessment Date                424 non-null    object\n",
      " 6   Asset Name: Current Replacement Value  483 non-null    object\n",
      " 7   Current Needs Value                    483 non-null    object\n",
      " 8   Asset Name: Current FCI                483 non-null    object\n",
      " 9   Type of assessment                     483 non-null    object\n",
      "dtypes: object(10)\n",
      "memory usage: 41.5+ KB\n"
     ]
    }
   ],
   "source": [
    "df_2.info()"
   ]
  },
  {
   "cell_type": "code",
   "execution_count": 214,
   "metadata": {},
   "outputs": [
    {
     "data": {
      "image/png": "[encoded data removed]",
      "text/plain": [
       "<Figure size 1000x600 with 1 Axes>"
      ]
     },
     "metadata": {},
     "output_type": "display_data"
    }
   ],
   "source": [
    "plt.figure(figsize=(10, 6))\n",
    "sns.heatmap(df_2.isnull(), cbar=False, yticklabels=False, cmap='viridis')\n",
    "plt.title('Heatmap of DB1 Nulls by Column')\n",
    "plt.show()"
   ]
  }
 ],
 "metadata": {
  "kernelspec": {
   "display_name": "data_analysis",
   "language": "python",
   "name": "python3"
  },
  "language_info": {
   "codemirror_mode": {
    "name": "ipython",
    "version": 3
   },
   "file_extension": ".py",
   "mimetype": "text/x-python",
   "name": "python",
   "nbconvert_exporter": "python",
   "pygments_lexer": "ipython3",
   "version": "3.10.11"
  }
 },
 "nbformat": 4,
 "nbformat_minor": 2
}
